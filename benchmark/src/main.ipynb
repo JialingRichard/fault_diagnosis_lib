{
 "cells": [
  {
   "cell_type": "markdown",
   "id": "6324fb6e",
   "metadata": {},
   "source": [
    "# 时序异常检测基准测试框架\n",
    "\n",
    "这个notebook是整个基准测试框架的核心运行脚本，用于:\n",
    "- 加载和管理实验配置\n",
    "- 数据集处理（未完成）\n",
    "- 执行完整的模型训练和评估流程\n",
    "- 生成结果报告和可视化（待添加新评估图像和指标）\n"
   ]
  },
  {
   "cell_type": "code",
   "execution_count": 1,
   "id": "cca78605",
   "metadata": {},
   "outputs": [],
   "source": [
    "# 导入依赖库\n",
    "import os\n",
    "import sys\n",
    "import yaml\n",
    "import numpy as np\n",
    "import pandas as pd\n",
    "import matplotlib.pyplot as plt\n",
    "import seaborn as sns\n",
    "from pathlib import Path\n",
    "from datetime import datetime\n",
    "import warnings\n",
    "# warnings.filterwarnings('ignore')\n",
    "\n",
    "\n",
    "\n"
   ]
  },
  {
   "cell_type": "code",
   "execution_count": 2,
   "id": "c486a034",
   "metadata": {},
   "outputs": [],
   "source": [
    "# # 放在任何 torch 操作之前（越靠前越好）\n",
    "# import os\n",
    "\n",
    "# # 1) 让 MIOpen 避免在第一次做耗时的穷举搜索（显著减少“第一次超久”）\n",
    "# os.environ['MIOPEN_FIND_ENFORCE'] = '1'  # 只用已知解，跳过搜索\n",
    "# # 可选：自定义/确保可写缓存目录，避免权限问题导致每次都重新搜索\n",
    "# os.environ['MIOPEN_CACHE_DIR'] = os.path.expanduser('~/.cache/miopen')\n",
    "\n",
    "# # 2) 可选：看日志定位问题时再启用\n",
    "# # os.environ['MIOPEN_LOG_LEVEL'] = '5'\n",
    "\n",
    "# # 3) 限定可见 GPU（如有多卡）\n",
    "# # os.environ['HIP_VISIBLE_DEVICES'] = '0'\n",
    "\n",
    "# # 4) 小型 warmup，提前完成 HIP/MIOpen 初始化（放在创建模型前）\n",
    "# import torch\n",
    "# if torch.cuda.is_available():\n",
    "#     x = torch.randn(128, 128, device='cuda')\n",
    "#     y = x @ x.t()\n",
    "#     torch.cuda.synchronize()"
   ]
  },
  {
   "cell_type": "code",
   "execution_count": 3,
   "id": "2e6ea3c1",
   "metadata": {},
   "outputs": [
    {
     "name": "stdout",
     "output_type": "stream",
     "text": [
      "项目根目录: /home/chen/dev/fault_diagnosis_lib/benchmark\n",
      "依赖库导入完成\n",
      "ConfigManager 导入成功\n",
      "DataPipeline 导入成功\n",
      "ModelFactory 导入失败: No module named 'models.base_model'\n",
      "Trainer 导入失败: No module named 'src.trainer'\n",
      "Metrics 导入失败: No module named 'src.metrics'\n",
      "ModelLoader 导入失败: No module named 'src.model_loader'\n",
      "Eval plugins 导入失败: No module named 'src.eval_plugins'\n",
      "导入检测完成\n"
     ]
    }
   ],
   "source": [
    "# 添加项目路径\n",
    "project_root = Path.cwd().parent\n",
    "if str(project_root) not in sys.path:\n",
    "    sys.path.append(str(project_root))\n",
    "\n",
    "print(f\"项目根目录: {project_root}\")\n",
    "print(\"依赖库导入完成\")\n",
    "\n",
    "# 分步导入框架组件\n",
    "try:\n",
    "    from src.config_manager import ConfigManager\n",
    "    print(\"ConfigManager 导入成功\")\n",
    "except ImportError as e:\n",
    "    print(f\"ConfigManager 导入失败: {e}\")\n",
    "\n",
    "try:\n",
    "    from src.dataloaders import DataPipeline\n",
    "    print(\"DataPipeline 导入成功\")\n",
    "except ImportError as e:\n",
    "    print(f\"DataPipeline 导入失败: {e}\")\n",
    "\n",
    "try:\n",
    "    from models.base_model import ModelFactory\n",
    "    print(\"ModelFactory 导入成功\")\n",
    "except ImportError as e:\n",
    "    print(f\"ModelFactory 导入失败: {e}\")\n",
    "\n",
    "try:\n",
    "    from src.trainer import Trainer\n",
    "    print(\"Trainer 导入成功\")\n",
    "except ImportError as e:\n",
    "    print(f\"Trainer 导入失败: {e}\")\n",
    "\n",
    "try:\n",
    "    from src.metrics import TimeSeriesEvaluator, print_evaluation_report\n",
    "    print(\"Metrics 导入成功\")\n",
    "except ImportError as e:\n",
    "    print(f\"Metrics 导入失败: {e}\")\n",
    "\n",
    "# 新增：模型加载器与模块化评估器\n",
    "try:\n",
    "    from src.model_loader import ModelLoader\n",
    "    print(\"ModelLoader 导入成功\")\n",
    "except ImportError as e:\n",
    "    print(f\"ModelLoader 导入失败: {e}\")\n",
    "\n",
    "try:\n",
    "    from src.eval_plugins import ModularEvaluator, MetricRegistry\n",
    "    print(\"ModularEvaluator/MetricRegistry 导入成功\")\n",
    "except ImportError as e:\n",
    "    print(f\"Eval plugins 导入失败: {e}\")\n",
    "\n",
    "# 设置随机种子\n",
    "import random\n",
    "random.seed(42)\n",
    "np.random.seed(42)\n",
    "\n",
    "print(\"导入检测完成\")"
   ]
  },
  {
   "cell_type": "markdown",
   "id": "4347131f",
   "metadata": {},
   "source": [
    "## 1. 配置管理与实验设置"
   ]
  },
  {
   "cell_type": "code",
   "execution_count": 4,
   "id": "56150bd4",
   "metadata": {},
   "outputs": [
    {
     "name": "stdout",
     "output_type": "stream",
     "text": [
      "实验配置:\n",
      "   - 实验名称: benchmark_experiment_01\n",
      "   - 数据集: NPY_UCI_HAR\n",
      "   - 模型: ['lstm']\n",
      "   - 评估指标: ['f1', 'precision', 'recall', 'auc', 'f1_point_adjusted']\n",
      "   - 结果保存: True\n"
     ]
    }
   ],
   "source": [
    "# 加载用户的实验配置\n",
    "config_file = project_root / 'configs' / 'default_experiment.yaml'\n",
    "# config_file = \"/home/chen/dev/fault_diagnosis_lib/benchmark/configs/default_experiment.yaml\"\n",
    "config_manager = ConfigManager(config_dir = config_file)\n",
    "config = config_manager.load_config()\n",
    "\n",
    "print(\"实验配置:\")\n",
    "print(f\"   - 实验名称: {config['experiment']['name']}\")\n",
    "print(f\"   - 数据集: {config['data']['dataset']}\")\n",
    "print(f\"   - 模型: {list(config['models'].keys())}\")\n",
    "print(f\"   - 评估指标: {config['evaluation']['metrics']}\")\n",
    "print(f\"   - 结果保存: {config['output']['save_results']}\")"
   ]
  },
  {
   "cell_type": "markdown",
   "id": "7a21c6ad",
   "metadata": {},
   "source": [
    "## 2. 数据加载与预处理"
   ]
  },
  {
   "cell_type": "code",
   "execution_count": 5,
   "id": "e64f4c46",
   "metadata": {},
   "outputs": [
    {
     "name": "stdout",
     "output_type": "stream",
     "text": [
      "加载数据集: NPY_UCI_HAR\n",
      "Project root path: /home/chen/dev/fault_diagnosis_lib/benchmark\n",
      "Loading file: /home/chen/dev/fault_diagnosis_lib/benchmark/data/NPY_UCI_HAR/train_X.npy\n",
      "Project root path: /home/chen/dev/fault_diagnosis_lib/benchmark\n",
      "Loading file: /home/chen/dev/fault_diagnosis_lib/benchmark/data/NPY_UCI_HAR/train_y.npy\n",
      "Project root path: /home/chen/dev/fault_diagnosis_lib/benchmark\n",
      "Loading file: /home/chen/dev/fault_diagnosis_lib/benchmark/data/NPY_UCI_HAR/test_X.npy\n",
      "Project root path: /home/chen/dev/fault_diagnosis_lib/benchmark\n",
      "Loading file: /home/chen/dev/fault_diagnosis_lib/benchmark/data/NPY_UCI_HAR/test_y.npy\n",
      "Metadata: DataMetadata(dataset_name='NPY_UCI_HAR', fault_type='multi-class', feature_dim=9, num_classes=6, timesteps=128, number_train_samples=7352, number_test_samples=2947)\n",
      "No normalization applied.\n"
     ]
    }
   ],
   "source": [
    "# 创建数据管道\n",
    "data_pipeline = DataPipeline(config)\n",
    "\n",
    "# 加载数据\n",
    "dataset_name = config['data']['dataset']\n",
    "print(f\"加载数据集: {dataset_name}\")\n",
    "\n",
    "# get train_data, train_label, test_data, test_label, metadata\n",
    "train_data, test_data, train_label, test_label, metadata = data_pipeline.prepare_data()"
   ]
  },
  {
   "cell_type": "code",
   "execution_count": 6,
   "id": "02e4cafc",
   "metadata": {},
   "outputs": [
    {
     "name": "stdout",
     "output_type": "stream",
     "text": [
      "训练数据形状: (7352, 128, 9), 训练标签形状: (7352,)\n",
      "测试数据形状: (2947, 128, 9), 测试标签形状: (2947,)\n",
      "数据元信息: DataMetadata(dataset_name='NPY_UCI_HAR', fault_type='multi-class', feature_dim=9, num_classes=6, timesteps=128, number_train_samples=7352, number_test_samples=2947)\n"
     ]
    }
   ],
   "source": [
    "# show shapes\n",
    "print(f\"训练数据形状: {train_data.shape}, 训练标签形状: {train_label.shape}\")\n",
    "print(f\"测试数据形状: {test_data.shape}, 测试标签形状: {test_label.shape}\")\n",
    "print(f\"数据元信息: {metadata}\")"
   ]
  },
  {
   "cell_type": "markdown",
   "id": "1eb5a977",
   "metadata": {},
   "source": [
    "## 4. 结果对比与可视化"
   ]
  }
 ],
 "metadata": {
  "kernelspec": {
   "display_name": "venv_py311_rocm",
   "language": "python",
   "name": "python3"
  },
  "language_info": {
   "codemirror_mode": {
    "name": "ipython",
    "version": 3
   },
   "file_extension": ".py",
   "mimetype": "text/x-python",
   "name": "python",
   "nbconvert_exporter": "python",
   "pygments_lexer": "ipython3",
   "version": "3.11.13"
  }
 },
 "nbformat": 4,
 "nbformat_minor": 5
}
